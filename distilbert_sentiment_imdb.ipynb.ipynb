{
 "cells": [
  {
   "cell_type": "code",
   "execution_count": 125,
   "id": "40322f8c-f74a-414f-a5e6-0f5b43e12b9b",
   "metadata": {},
   "outputs": [],
   "source": [
    "import os\n",
    "import random\n",
    "import shutil\n",
    "from pathlib import Path\n",
    "from pprint import pprint\n",
    "\n",
    "import numpy as np\n",
    "import pandas as pd\n",
    "import torch\n",
    "from tqdm.auto import tqdm\n",
    "\n",
    "from sklearn.model_selection import train_test_split\n",
    "from datasets import Dataset, DatasetDict\n",
    "from transformers import (AutoTokenizer, AutoModelForSequenceClassification,\n",
    "                          TrainingArguments, Trainer)\n",
    "import evaluate\n",
    "import mlflow\n",
    "import mlflow.pyfunc\n",
    "import gradio as gr"
   ]
  },
  {
   "cell_type": "code",
   "execution_count": 189,
   "id": "6ef54883-8fc2-482c-9822-321984c5c0a4",
   "metadata": {},
   "outputs": [],
   "source": [
    "data = r\"D:\\Work\\Internshala\\NLP\\Imdb - data_imdb.csv\"   # <-- path to your CSV (update if needed)\n",
    "label = \"sentiment\"                  # column in CSV\n",
    "text = \"review\"                      # column in CSV\n",
    "\n",
    "# Create an organized models directory\n",
    "models_dir = r\"C:\\Users\\alenp\\models\"\n",
    "os.makedirs(models_dir, exist_ok=True)\n",
    "\n",
    "model_name = \"distilbert-base-uncased-finetuned-sst-2-english\"\n",
    "output_dir = os.path.join(models_dir, \"bert_sentiment_model\")\n",
    "mlflow_exp_name = \"distilbert-sentiment\"   \n",
    "small_subset_size = 2000   # total rows to use\n",
    "random_seed = 42"
   ]
  },
  {
   "cell_type": "code",
   "execution_count": 215,
   "id": "04780ebd-297e-4394-837f-5bcf82e8b013",
   "metadata": {},
   "outputs": [],
   "source": [
    "# Training hyperparams (tweak for speed)\n",
    "epochs = 2\n",
    "train_batch = 8 \n",
    "eval_batch = 16\n",
    "lr = 2e-5\n",
    "max_len = 128"
   ]
  },
  {
   "cell_type": "code",
   "execution_count": 217,
   "id": "e518d9e7-7fc5-4851-a24b-39709e0a6bb8",
   "metadata": {},
   "outputs": [],
   "source": [
    "os.environ[\"TOKENIZERS_PARALLELISM\"] = \"false\"\n",
    "torch.manual_seed(random_seed)\n",
    "np.random.seed(random_seed)\n",
    "random.seed(random_seed)"
   ]
  },
  {
   "cell_type": "code",
   "execution_count": 219,
   "id": "9e8d2d44-3e55-47af-a6d9-b1092b27fce0",
   "metadata": {},
   "outputs": [
    {
     "name": "stdout",
     "output_type": "stream",
     "text": [
      "Raw rows: 50000\n"
     ]
    }
   ],
   "source": [
    "df = pd.read_csv(data)\n",
    "print(\"Raw rows:\", len(df))"
   ]
  },
  {
   "cell_type": "code",
   "execution_count": 220,
   "id": "5784f39e-c2de-4f81-9ea9-948e2fefbb88",
   "metadata": {},
   "outputs": [
    {
     "name": "stdout",
     "output_type": "stream",
     "text": [
      "<class 'pandas.core.frame.DataFrame'>\n",
      "RangeIndex: 50000 entries, 0 to 49999\n",
      "Data columns (total 2 columns):\n",
      " #   Column     Non-Null Count  Dtype \n",
      "---  ------     --------------  ----- \n",
      " 0   review     50000 non-null  object\n",
      " 1   sentiment  50000 non-null  object\n",
      "dtypes: object(2)\n",
      "memory usage: 781.4+ KB\n"
     ]
    }
   ],
   "source": [
    "df.info()"
   ]
  },
  {
   "cell_type": "code",
   "execution_count": 221,
   "id": "f5a00452-53e4-4837-9eb7-5b6d49b0763e",
   "metadata": {},
   "outputs": [],
   "source": [
    "df = df[[text, label]].dropna().reset_index(drop=True)"
   ]
  },
  {
   "cell_type": "code",
   "execution_count": 222,
   "id": "ae7f1f8a-db37-404f-839a-4ac3d032eda8",
   "metadata": {},
   "outputs": [
    {
     "data": {
      "text/plain": [
       "sentiment\n",
       "positive    25000\n",
       "negative    25000\n",
       "Name: count, dtype: int64"
      ]
     },
     "execution_count": 222,
     "metadata": {},
     "output_type": "execute_result"
    }
   ],
   "source": [
    "df['sentiment'].value_counts()"
   ]
  },
  {
   "cell_type": "code",
   "execution_count": 227,
   "id": "76477602-dd89-44ea-8989-9b13c3b0eb6e",
   "metadata": {},
   "outputs": [],
   "source": [
    "label_map = {\"negative\": 0, \"positive\": 1}\n",
    "df[\"label\"] = df[label].map(label_map)"
   ]
  },
  {
   "cell_type": "code",
   "execution_count": 229,
   "id": "2a64a68d-05ab-4182-b6c4-9cfbd91f916a",
   "metadata": {},
   "outputs": [],
   "source": [
    "subset_size = 5000  # choose smaller number to speed up training\n",
    "df_small, _ = train_test_split(\n",
    "    df, \n",
    "    train_size=subset_size, \n",
    "    stratify=df['label'], \n",
    "    random_state=random_seed\n",
    ")"
   ]
  },
  {
   "cell_type": "code",
   "execution_count": 231,
   "id": "fef972c7-9559-4afe-82da-fd981139f91d",
   "metadata": {},
   "outputs": [
    {
     "name": "stdout",
     "output_type": "stream",
     "text": [
      "Train rows: 4000 Test rows: 1000\n"
     ]
    }
   ],
   "source": [
    "#split dataset into training and testing\n",
    "train_df, test_df = train_test_split(df_small, test_size=0.2, random_state=random_seed, stratify=df_small[\"label\"])\n",
    "train_df = train_df.reset_index(drop=True)\n",
    "test_df = test_df.reset_index(drop=True)\n",
    "print(\"Train rows:\", len(train_df), \"Test rows:\", len(test_df))\n"
   ]
  },
  {
   "cell_type": "code",
   "execution_count": 233,
   "id": "66cbace1-cc8f-42b2-9959-520e3f9868e4",
   "metadata": {},
   "outputs": [],
   "source": [
    "# Convert to HuggingFace datasets\n",
    "train_ds = Dataset.from_pandas(train_df[[text, \"label\"]])\n",
    "test_ds = Dataset.from_pandas(test_df[[text, \"label\"]])\n",
    "dataset = DatasetDict({\"train\": train_ds, \"test\": test_ds})"
   ]
  },
  {
   "cell_type": "code",
   "execution_count": 235,
   "id": "c5067694-096f-4fb9-8500-c32e94e19092",
   "metadata": {},
   "outputs": [],
   "source": [
    "# tokenizing using  \"distilbert-base-uncased\" model\n",
    "tokenizer = AutoTokenizer.from_pretrained(model_name)"
   ]
  },
  {
   "cell_type": "code",
   "execution_count": 236,
   "id": "35c11a06-5667-4f46-b4c1-0335f025f7e0",
   "metadata": {},
   "outputs": [],
   "source": [
    "def preprocess_function(batch):\n",
    "    return tokenizer(batch[text], truncation=True, padding=\"max_length\", max_length=max_len)"
   ]
  },
  {
   "cell_type": "code",
   "execution_count": 237,
   "id": "fd31f166-c924-47f3-a41e-75a5d67cebf4",
   "metadata": {},
   "outputs": [
    {
     "data": {
      "application/vnd.jupyter.widget-view+json": {
       "model_id": "feb9a055769646a1ae127931f5b23513",
       "version_major": 2,
       "version_minor": 0
      },
      "text/plain": [
       "Map:   0%|          | 0/4000 [00:00<?, ? examples/s]"
      ]
     },
     "metadata": {},
     "output_type": "display_data"
    },
    {
     "data": {
      "application/vnd.jupyter.widget-view+json": {
       "model_id": "3cf82ac3453e4f04bad88ba955d38c3e",
       "version_major": 2,
       "version_minor": 0
      },
      "text/plain": [
       "Map:   0%|          | 0/1000 [00:00<?, ? examples/s]"
      ]
     },
     "metadata": {},
     "output_type": "display_data"
    }
   ],
   "source": [
    "# Map - tokenizes\n",
    "\n",
    "dataset = dataset.map(\n",
    "    preprocess_function, \n",
    "    batched=True,\n",
    "    load_from_cache_file=False\n",
    ")"
   ]
  },
  {
   "cell_type": "code",
   "execution_count": 241,
   "id": "7b959973-85a4-4ac0-aa2d-578b3012f8b8",
   "metadata": {},
   "outputs": [],
   "source": [
    "# set format for Trainer\n",
    "dataset = dataset.remove_columns([text])\n",
    "dataset = dataset.with_format(\"torch\")"
   ]
  },
  {
   "cell_type": "code",
   "execution_count": 243,
   "id": "dc2ad1cf-a31b-442a-a496-8c72359c0004",
   "metadata": {},
   "outputs": [],
   "source": [
    "# Model init\n",
    "num_labels = 2\n",
    "model = AutoModelForSequenceClassification.from_pretrained(model_name, num_labels=num_labels)\n"
   ]
  },
  {
   "cell_type": "code",
   "execution_count": 245,
   "id": "ae0833f5-a9e6-45f9-b48a-651cdac3c1ad",
   "metadata": {},
   "outputs": [],
   "source": [
    "# Metrics\n",
    "accuracy_metric = evaluate.load(\"accuracy\")\n",
    "f1_metric = evaluate.load(\"f1\")\n",
    "precision_metric = evaluate.load(\"precision\")\n",
    "recall_metric = evaluate.load(\"recall\")\n",
    "roc_auc_metric = evaluate.load(\"roc_auc\")"
   ]
  },
  {
   "cell_type": "code",
   "execution_count": 247,
   "id": "c8d97e9a-4e5d-4360-98ca-0dc430510251",
   "metadata": {},
   "outputs": [],
   "source": [
    "def compute_metrics(eval_pred):\n",
    "    logits, labels = eval_pred\n",
    "    preds = np.argmax(logits, axis=-1)\n",
    "    probs = torch.softmax(torch.tensor(logits), dim=1).numpy()[:, 1]\n",
    "    acc = accuracy_metric.compute(predictions=preds, references=labels)[\"accuracy\"]\n",
    "    f1 = f1_metric.compute(predictions=preds, references=labels)[\"f1\"]\n",
    "    prec = precision_metric.compute(predictions=preds, references=labels)[\"precision\"]\n",
    "    rec = recall_metric.compute(predictions=preds, references=labels)[\"recall\"]\n",
    "    try:\n",
    "        roc = roc_auc_metric.compute(prediction_scores=probs, references=labels)[\"roc_auc\"]\n",
    "    except Exception:\n",
    "        roc = None\n",
    "    return {\"accuracy\": acc, \"f1\": f1, \"precision\": prec, \"recall\": rec, \"roc_auc\": roc}"
   ]
  },
  {
   "cell_type": "code",
   "execution_count": 249,
   "id": "2f761d73-1843-48f2-bf55-da886e58859b",
   "metadata": {},
   "outputs": [],
   "source": [
    "# 5. TrainingArguments & Trainer\n",
    "# -------------------------\n",
    "training_args = TrainingArguments(\n",
    "    output_dir=output_dir,\n",
    "    eval_strategy=\"epoch\",\n",
    "    save_strategy=\"epoch\",\n",
    "    learning_rate=lr,\n",
    "    per_device_train_batch_size=train_batch,\n",
    "    per_device_eval_batch_size=eval_batch,\n",
    "    num_train_epochs=epochs,\n",
    "    weight_decay=0.01,\n",
    "    load_best_model_at_end=True,\n",
    "    metric_for_best_model=\"f1\",\n",
    "    logging_strategy=\"epoch\",\n",
    "    logging_first_step=False,\n",
    "    seed=random_seed,\n",
    "    push_to_hub=False,\n",
    "    dataloader_num_workers=4\n",
    ")"
   ]
  },
  {
   "cell_type": "code",
   "execution_count": 251,
   "id": "015bfdae-cdd8-4f53-9ce4-c6130282d50c",
   "metadata": {},
   "outputs": [],
   "source": [
    "trainer = Trainer(\n",
    "    model=model,\n",
    "    args=training_args,\n",
    "    train_dataset=dataset[\"train\"],\n",
    "    eval_dataset=dataset[\"test\"],\n",
    "    compute_metrics=compute_metrics,\n",
    ")"
   ]
  },
  {
   "cell_type": "code",
   "execution_count": 253,
   "id": "b66dba95-2193-4230-8444-66e093cf28b0",
   "metadata": {},
   "outputs": [
    {
     "name": "stdout",
     "output_type": "stream",
     "text": [
      "MLflow run id: 6325b70fa0ce4614a3a3ae0dad453dc5\n"
     ]
    },
    {
     "name": "stderr",
     "output_type": "stream",
     "text": [
      "C:\\Users\\alenp\\myenv\\Lib\\site-packages\\torch\\utils\\data\\dataloader.py:668: UserWarning: 'pin_memory' argument is set as true but no accelerator is found, then device pinned memory won't be used.\n",
      "  warnings.warn(warn_msg)\n"
     ]
    },
    {
     "data": {
      "text/html": [
       "\n",
       "    <div>\n",
       "      \n",
       "      <progress value='1000' max='1000' style='width:300px; height:20px; vertical-align: middle;'></progress>\n",
       "      [1000/1000 1:37:57, Epoch 2/2]\n",
       "    </div>\n",
       "    <table border=\"1\" class=\"dataframe\">\n",
       "  <thead>\n",
       " <tr style=\"text-align: left;\">\n",
       "      <th>Epoch</th>\n",
       "      <th>Training Loss</th>\n",
       "      <th>Validation Loss</th>\n",
       "      <th>Accuracy</th>\n",
       "      <th>F1</th>\n",
       "      <th>Precision</th>\n",
       "      <th>Recall</th>\n",
       "      <th>Roc Auc</th>\n",
       "    </tr>\n",
       "  </thead>\n",
       "  <tbody>\n",
       "    <tr>\n",
       "      <td>1</td>\n",
       "      <td>0.372600</td>\n",
       "      <td>0.356133</td>\n",
       "      <td>0.873000</td>\n",
       "      <td>0.874630</td>\n",
       "      <td>0.863548</td>\n",
       "      <td>0.886000</td>\n",
       "      <td>0.940276</td>\n",
       "    </tr>\n",
       "    <tr>\n",
       "      <td>2</td>\n",
       "      <td>0.217100</td>\n",
       "      <td>0.508365</td>\n",
       "      <td>0.868000</td>\n",
       "      <td>0.868263</td>\n",
       "      <td>0.866534</td>\n",
       "      <td>0.870000</td>\n",
       "      <td>0.943784</td>\n",
       "    </tr>\n",
       "  </tbody>\n",
       "</table><p>"
      ],
      "text/plain": [
       "<IPython.core.display.HTML object>"
      ]
     },
     "metadata": {},
     "output_type": "display_data"
    },
    {
     "name": "stderr",
     "output_type": "stream",
     "text": [
      "C:\\Users\\alenp\\myenv\\Lib\\site-packages\\torch\\utils\\data\\dataloader.py:668: UserWarning: 'pin_memory' argument is set as true but no accelerator is found, then device pinned memory won't be used.\n",
      "  warnings.warn(warn_msg)\n",
      "C:\\Users\\alenp\\myenv\\Lib\\site-packages\\torch\\utils\\data\\dataloader.py:668: UserWarning: 'pin_memory' argument is set as true but no accelerator is found, then device pinned memory won't be used.\n",
      "  warnings.warn(warn_msg)\n"
     ]
    },
    {
     "data": {
      "text/html": [
       "\n",
       "    <div>\n",
       "      \n",
       "      <progress value='63' max='63' style='width:300px; height:20px; vertical-align: middle;'></progress>\n",
       "      [63/63 02:56]\n",
       "    </div>\n",
       "    "
      ],
      "text/plain": [
       "<IPython.core.display.HTML object>"
      ]
     },
     "metadata": {},
     "output_type": "display_data"
    },
    {
     "name": "stdout",
     "output_type": "stream",
     "text": [
      "{'epoch': 2.0,\n",
      " 'eval_accuracy': 0.873,\n",
      " 'eval_f1': 0.8746298124383021,\n",
      " 'eval_loss': 0.3561331033706665,\n",
      " 'eval_precision': 0.8635477582846004,\n",
      " 'eval_recall': 0.886,\n",
      " 'eval_roc_auc': 0.940276,\n",
      " 'eval_runtime': 215.1883,\n",
      " 'eval_samples_per_second': 4.647,\n",
      " 'eval_steps_per_second': 0.293}\n",
      "Model saved to: C:\\Users\\alenp\\models\\bert_sentiment_model\\final_model\n",
      "Artifacts logged to MLflow run: 6325b70fa0ce4614a3a3ae0dad453dc5\n"
     ]
    }
   ],
   "source": [
    "# MLflow experiment setup\n",
    "# -------------------------\n",
    "mlflow.set_experiment(mlflow_exp_name)\n",
    "\n",
    "with mlflow.start_run(nested=False) as run:\n",
    "    run_id = run.info.run_id\n",
    "    print(\"MLflow run id:\", run_id)\n",
    "\n",
    "    # Log parameters\n",
    "    mlflow.log_param(\"model_name\", model_name)\n",
    "    mlflow.log_param(\"max_len\", max_len)\n",
    "    mlflow.log_param(\"epochs\", epochs)\n",
    "    mlflow.log_param(\"train_batch\", train_batch)\n",
    "    mlflow.log_param(\"eval_batch\", eval_batch)\n",
    "    mlflow.log_param(\"lr\", lr)\n",
    "    mlflow.log_param(\"train_rows\", len(dataset[\"train\"]))\n",
    "    mlflow.log_param(\"eval_rows\", len(dataset[\"test\"]))\n",
    "\n",
    "    # Train\n",
    "    trainer.train()\n",
    "\n",
    "    # Evaluate\n",
    "    eval_metrics = trainer.evaluate(eval_dataset=dataset[\"test\"])\n",
    "    pprint(eval_metrics)\n",
    "\n",
    "    # Log metrics to MLflow\n",
    "    # trainer.evaluate returns keys like 'eval_loss', 'eval_accuracy' etc.\n",
    "    for k, v in eval_metrics.items():\n",
    "        if isinstance(v, (int, float)):\n",
    "            mlflow.log_metric(k, float(v))\n",
    "\n",
    "    # Save model & tokenizer locally and log as artifact\n",
    "    model_dir = Path(output_dir) / \"final_model\"\n",
    "    if model_dir.exists():\n",
    "        shutil.rmtree(model_dir)\n",
    "    model_dir.mkdir(parents=True, exist_ok=True)\n",
    "    trainer.save_model(model_dir)\n",
    "    tokenizer.save_pretrained(model_dir)\n",
    "\n",
    "    # Log model files to MLflow as artifacts\n",
    "    mlflow.log_artifacts(str(model_dir), artifact_path=\"distilbert_model\")\n",
    "\n",
    "    # Register model as MLflow artifact (optional: depends on mlflow backend)\n",
    "    # mlflow.pyfunc.log_model(...)  # optional advanced logging if needed\n",
    "\n",
    "    print(\"Model saved to:\", model_dir)\n",
    "    print(\"Artifacts logged to MLflow run:\", run.info.run_id)\n"
   ]
  },
  {
   "cell_type": "code",
   "execution_count": 277,
   "id": "1dbeabc9-ba32-488d-8bcb-bf6d37fcfe3a",
   "metadata": {},
   "outputs": [],
   "source": [
    "mlflow.set_experiment(\"distilbert-sentiment\")\n",
    "\n",
    "# Get all runs\n",
    "client = mlflow.tracking.MlflowClient()\n",
    "experiment = client.get_experiment_by_name(\"distilbert-sentiment\")\n",
    "runs = client.search_runs(experiment.experiment_id)\n",
    "\n",
    "# Loop through runs\n",
    "for run in runs:\n",
    "    run_id = run.info.run_id\n",
    "    metrics = client.get_metric_history(run_id, \"eval_f1\")  # Example metric\n",
    "    df = pd.DataFrame([(m.step, m.value) for m in metrics], columns=[\"step\", \"eval_f1\"])\n",
    "    df.to_csv(f\"run_{run_id}_eval_f1.csv\", index=False)"
   ]
  },
  {
   "cell_type": "code",
   "execution_count": 279,
   "id": "589ab4e7-7b7c-4010-8f90-d977d0f8c09d",
   "metadata": {},
   "outputs": [
    {
     "name": "stderr",
     "output_type": "stream",
     "text": [
      "Matplotlib is building the font cache; this may take a moment.\n"
     ]
    },
    {
     "data": {
      "image/png": "[encoded data removed]",
      "text/plain": [
       "<Figure size 640x480 with 1 Axes>"
      ]
     },
     "metadata": {},
     "output_type": "display_data"
    }
   ],
   "source": [
    "import matplotlib.pyplot as plt\n",
    "\n",
    "# Example: plot loss\n",
    "plt.plot([0.4, 0.3, 0.2], label=\"train_loss\")\n",
    "plt.plot([0.5, 0.4, 0.35], label=\"val_loss\")\n",
    "plt.xlabel(\"epoch\")\n",
    "plt.ylabel(\"loss\")\n",
    "plt.legend()\n",
    "plt.savefig(\"loss_plot.png\")\n",
    "mlflow.log_artifact(\"loss_plot.png\", artifact_path=\"plots\")\n"
   ]
  },
  {
   "cell_type": "code",
   "execution_count": 281,
   "id": "f94779ca-8997-48d8-9ff0-4903daf751a8",
   "metadata": {},
   "outputs": [
    {
     "name": "stdout",
     "output_type": "stream",
     "text": [
      "file:///C:/Users/alenp/mlruns\n"
     ]
    }
   ],
   "source": [
    "\n",
    "print(mlflow.get_tracking_uri())\n"
   ]
  },
  {
   "cell_type": "code",
   "execution_count": 283,
   "id": "e5c93677-0588-4008-8624-4dd22de285a3",
   "metadata": {},
   "outputs": [
    {
     "data": {
      "application/vnd.jupyter.widget-view+json": {
       "model_id": "96a52d2fc1694924ae83923d2c2319b9",
       "version_major": 2,
       "version_minor": 0
      },
      "text/plain": [
       "Downloading artifacts:   0%|          | 0/7 [00:00<?, ?it/s]"
      ]
     },
     "metadata": {},
     "output_type": "display_data"
    },
    {
     "data": {
      "text/plain": [
       "'C:\\\\Users\\\\alenp\\\\mlflow_artifacts\\\\run_6325b70fa0ce4614a3a3ae0dad453dc5\\\\'"
      ]
     },
     "execution_count": 283,
     "metadata": {},
     "output_type": "execute_result"
    }
   ],
   "source": [
    "from mlflow.tracking import MlflowClient\n",
    "import shutil\n",
    "\n",
    "client = MlflowClient()\n",
    "run_id = \"6325b70fa0ce4614a3a3ae0dad453dc5\" \n",
    "\n",
    "local_dir = \"mlflow_artifacts/run_\" + run_id\n",
    "client.download_artifacts(run_id, \"\", local_dir)  # \"\" = root of artifacts\n"
   ]
  },
  {
   "cell_type": "code",
   "execution_count": 255,
   "id": "75766bd9-80f3-4177-89fe-a16c76dd0bb5",
   "metadata": {
    "scrolled": true
   },
   "outputs": [
    {
     "name": "stderr",
     "output_type": "stream",
     "text": [
      "Device set to use cpu\n",
      "C:\\Users\\alenp\\myenv\\Lib\\site-packages\\transformers\\pipelines\\text_classification.py:111: UserWarning: `return_all_scores` is now deprecated,  if want a similar functionality use `top_k=None` instead of `return_all_scores=True` or `top_k=1` instead of `return_all_scores=False`.\n",
      "  warnings.warn(\n"
     ]
    }
   ],
   "source": [
    "from transformers import AutoTokenizer, AutoModelForSequenceClassification, pipeline\n",
    "\n",
    "model_dir = r\"C:\\Users\\alenp\\models\\bert_sentiment_model\\final_model\"\n",
    "tokenizer = AutoTokenizer.from_pretrained(model_dir)\n",
    "model = AutoModelForSequenceClassification.from_pretrained(model_dir)\n",
    "\n",
    "sentiment_pipe = pipeline(\"text-classification\", model=model, tokenizer=tokenizer, return_all_scores=True)"
   ]
  },
  {
   "cell_type": "code",
   "execution_count": 269,
   "id": "0f5e2259-ee85-4283-aa49-cdff882373f5",
   "metadata": {},
   "outputs": [],
   "source": [
    "def predict_sentiment(text):\n",
    "    out = sentiment_pipe(text[:2000])  # truncate long text\n",
    "    # out is a list of dicts: [{'label': 'negative', 'score': 0.7}, ...]\n",
    "    scores = {d['label'].lower(): d['score'] for d in out[0]}  # normalize keys to lowercase\n",
    "    # pick the label with max score\n",
    "    pred_label = max(out[0], key=lambda x: x['score'])['label'].lower()\n",
    "    return {\"label\": pred_label, \"scores\": scores}\n"
   ]
  },
  {
   "cell_type": "code",
   "execution_count": 275,
   "id": "8141aa27-fc77-41d7-8867-d49c7e016372",
   "metadata": {},
   "outputs": [
    {
     "name": "stdout",
     "output_type": "stream",
     "text": [
      "* Running on local URL:  http://127.0.0.1:7862\n",
      "* To create a public link, set `share=True` in `launch()`.\n"
     ]
    },
    {
     "data": {
      "text/html": [
       "<div><iframe src=\"http://127.0.0.1:7862/\" width=\"100%\" height=\"500\" allow=\"autoplay; camera; microphone; clipboard-read; clipboard-write;\" frameborder=\"0\" allowfullscreen></iframe></div>"
      ],
      "text/plain": [
       "<IPython.core.display.HTML object>"
      ]
     },
     "metadata": {},
     "output_type": "display_data"
    },
    {
     "data": {
      "text/plain": []
     },
     "execution_count": 275,
     "metadata": {},
     "output_type": "execute_result"
    }
   ],
   "source": [
    "# Gradio demo\n",
    "def gradio_predict(text):\n",
    "    out = predict_sentiment(text)  # returns {\"label\": ..., \"scores\": {...}}\n",
    "    scores = out[\"scores\"]\n",
    "    label = out[\"label\"]\n",
    "    \n",
    "    # Safely get positive and negative scores\n",
    "    pos_score = scores.get(\"positive\", None)\n",
    "    neg_score = scores.get(\"negative\", None)\n",
    "    \n",
    "    # Fallback in case keys are missing\n",
    "    if pos_score is None or neg_score is None:\n",
    "        vals = list(scores.values())\n",
    "        pos_score = vals[1] if len(vals) > 1 else vals[0]\n",
    "        neg_score = vals[0]\n",
    "\n",
    "    return f\"Prediction: {label}\", f\"Positive: {pos_score:.3f}\", f\"Negative: {neg_score:.3f}\"\n",
    "\n",
    "demo = gr.Interface(\n",
    "    fn=gradio_predict,\n",
    "    inputs=gr.Textbox(lines=4, placeholder=\"Enter a review...\"),\n",
    "    outputs=[\"text\",\"text\",\"text\"],\n",
    "    title=\"DistilBERT Sentiment Demo\"\n",
    ")\n",
    "\n",
    "demo.launch()\n"
   ]
  },
  {
   "cell_type": "code",
   "execution_count": null,
   "id": "127c6f01-9109-484d-abf3-c963539f3155",
   "metadata": {},
   "outputs": [],
   "source": []
  }
 ],
 "metadata": {
  "kernelspec": {
   "display_name": "Python (myenv)",
   "language": "python",
   "name": "myenv"
  },
  "language_info": {
   "codemirror_mode": {
    "name": "ipython",
    "version": 3
   },
   "file_extension": ".py",
   "mimetype": "text/x-python",
   "name": "python",
   "nbconvert_exporter": "python",
   "pygments_lexer": "ipython3",
   "version": "3.13.9"
  }
 },
 "nbformat": 4,
 "nbformat_minor": 5
}
